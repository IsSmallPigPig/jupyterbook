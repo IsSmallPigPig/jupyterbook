{
 "cells": [
  {
   "attachments": {},
   "cell_type": "markdown",
   "metadata": {},
   "source": [
    "if 语句示例"
   ]
  },
  {
   "cell_type": "code",
   "execution_count": null,
   "metadata": {},
   "outputs": [],
   "source": [
    "# 声明整数类型变量 a 并赋值 3\n",
    "a = 3\n",
    "# 声明整数类型变量 b 并赋值 5\n",
    "b = 5\n",
    "# 如果 a 大于 b\n",
    "if a > b:\n",
    "    # 不输出，因为 a 小于 b\n",
    "    print(\"a 比 b 大\")\n",
    "# 没有输出内容"
   ]
  },
  {
   "attachments": {},
   "cell_type": "markdown",
   "metadata": {},
   "source": [
    "if else 语句示例"
   ]
  },
  {
   "cell_type": "code",
   "execution_count": null,
   "metadata": {},
   "outputs": [],
   "source": [
    "# 声明整数类型变量 a 并赋值 3\n",
    "a = 3\n",
    "# 声明整数类型变量 b 并赋值 5\n",
    "b = 5\n",
    "# 如果 a 大于 b\n",
    "if a > b:\n",
    "    # 不输出，因为 a 小于 b\n",
    "    print(\"a 比 b 大\")\n",
    "# 其它情况\n",
    "else:\n",
    "    # 输出，因为不满足 a 大于 b 的条件，则 a 小于 b 的情况属于其它情况\n",
    "    print(\"a 比 b 小\")"
   ]
  },
  {
   "attachments": {},
   "cell_type": "markdown",
   "metadata": {},
   "source": [
    "if elif else 语句示例"
   ]
  },
  {
   "cell_type": "code",
   "execution_count": null,
   "metadata": {},
   "outputs": [],
   "source": [
    "# 声明整数类型变量 a 并赋值 3\n",
    "a = 3\n",
    "# 声明整数类型变量 b 并赋值 5\n",
    "b = 5\n",
    "# 如果 a 大于 b\n",
    "if a > b:\n",
    "    # 不输出，因为 a 小于 b\n",
    "    print(\"a 比 b 大\")\n",
    "\n",
    "# 如果 a 等于 b\n",
    "if a == b:\n",
    "    # 不输出，因为 a 不等于 b\n",
    "    print(\"a 等于 b\")\n",
    "\n",
    "# 其它情况\n",
    "else:\n",
    "    # 输出，因为不满足 a 大于 b 的条件，则 a 小于 b 的情况属于其它情况\n",
    "    print(\"a 比 b 小\")"
   ]
  }
 ],
 "metadata": {
  "kernelspec": {
   "display_name": "Python 3",
   "language": "python",
   "name": "python3"
  },
  "language_info": {
   "codemirror_mode": {
    "name": "ipython",
    "version": 3
   },
   "file_extension": ".py",
   "mimetype": "text/x-python",
   "name": "python",
   "nbconvert_exporter": "python",
   "pygments_lexer": "ipython3",
   "version": "3.9.6"
  },
  "orig_nbformat": 4
 },
 "nbformat": 4,
 "nbformat_minor": 2
}
