{
 "cells": [
  {
   "attachments": {},
   "cell_type": "markdown",
   "metadata": {},
   "source": [
    "for 循环示例"
   ]
  },
  {
   "cell_type": "code",
   "execution_count": null,
   "metadata": {},
   "outputs": [],
   "source": [
    "# a 为整数类型 3\n",
    "a = 3\n",
    "# 重复执行 5 次\n",
    "for i in range(5):\n",
    "    # a 等于 a 乘 2\n",
    "    a *= 2"
   ]
  },
  {
   "attachments": {},
   "cell_type": "markdown",
   "metadata": {},
   "source": [
    "for 循环示例2"
   ]
  },
  {
   "cell_type": "code",
   "execution_count": null,
   "metadata": {},
   "outputs": [],
   "source": [
    "# 开始值不输入的话默认从0开始，打印输出0到9\n",
    "for i in range(10):\n",
    "    print(i)\n",
    "\n",
    "# 步长值不输入的话默认为1\n",
    "for i in range(1, 10):\n",
    "    print(i)\n",
    "    # 1, 2, 3, 4, 5, 6, 7, 8, 9\n",
    "    \n",
    "# 步长值输入为2\n",
    "for i in range(1, 10, 2):\n",
    "    print(i)\n",
    "   \t# 1, 3, 5, 7, 9\n",
    "\n",
    "# 打印输出10, 9, 8, 7, 6,5,4,3,2, 1, 0\n",
    "for i in range(10, -1, -1):\n",
    "    print(i)"
   ]
  },
  {
   "attachments": {},
   "cell_type": "markdown",
   "metadata": {},
   "source": [
    "while 循环示例"
   ]
  },
  {
   "cell_type": "code",
   "execution_count": null,
   "metadata": {},
   "outputs": [],
   "source": [
    "# i 默认为整数类型 0\n",
    "i = 0\n",
    "# 这是一个条件循环，只有 i 小于 10 的时候才会执行\n",
    "while i < 10:\n",
    "    # 每循环一次 i 加 1\n",
    "    i += 1\n",
    "# 输出 i，i 此时应该等于 9\n",
    "print(i)"
   ]
  },
  {
   "attachments": {},
   "cell_type": "markdown",
   "metadata": {},
   "source": [
    "while 循环示例2"
   ]
  },
  {
   "cell_type": "code",
   "execution_count": null,
   "metadata": {},
   "outputs": [],
   "source": [
    "# 这是一个死循环，如果不干预永远不会停止\n",
    "while True:\n",
    "    # 输出 1\n",
    "    print(1)"
   ]
  },
  {
   "attachments": {},
   "cell_type": "markdown",
   "metadata": {},
   "source": [
    "while 循环示例3"
   ]
  },
  {
   "cell_type": "code",
   "execution_count": null,
   "metadata": {},
   "outputs": [],
   "source": [
    "# 这是一个死循环\n",
    "while True:\n",
    "    # 我们给了它一个 i 小于 10 输出 1 的条件\n",
    "    if i < 10:\n",
    "        print(1)\n",
    "    # 如果不小于 10\n",
    "    else:\n",
    "        # 跳出循环，这个死循环将会被终止\n",
    "        break\n",
    "\n",
    "# 因此它与下面这条语句等价\n",
    "while i < 10:\n",
    "    print(1)"
   ]
  }
 ],
 "metadata": {
  "language_info": {
   "name": "python"
  },
  "orig_nbformat": 4
 },
 "nbformat": 4,
 "nbformat_minor": 2
}
