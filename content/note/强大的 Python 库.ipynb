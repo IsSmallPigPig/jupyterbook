{
 "cells": [
  {
   "attachments": {},
   "cell_type": "markdown",
   "metadata": {},
   "source": [
    "randint 函数示例"
   ]
  },
  {
   "cell_type": "code",
   "execution_count": null,
   "metadata": {},
   "outputs": [],
   "source": [
    "# 导入随机库\n",
    "import random as r\n",
    "# 使用随机库的生成随机整数的函数，范围是 1 ~ 100\n",
    "target = r.randint(1, 100)\n",
    "\n",
    "# 如果生成的数等于 50\n",
    "if target == 50:\n",
    "    # 输出等于 50\n",
    "    print(\"等于 50\")\n",
    "# 如果不是 50\n",
    "else:\n",
    "    # 输出不是 50\n",
    "    print(\"不是 50\")"
   ]
  },
  {
   "attachments": {},
   "cell_type": "markdown",
   "metadata": {},
   "source": [
    "scikit-learn 训练模型示例"
   ]
  },
  {
   "cell_type": "code",
   "execution_count": null,
   "metadata": {},
   "outputs": [],
   "source": [
    "from sklearn import neighbors\n",
    "# 记录水果特征列表\n",
    "features = [[140, 1], [130, 1], [150, 0], [170, 0], [180, 0]]\n",
    "# 记录水果类别\n",
    "labels = [0, 0, 1, 1, 1]\n",
    "\n",
    "# KNN 模型芬妮系数据，K 值为 3\n",
    "clf=neighbors.KNeighborsClassifier(3)\n",
    "# 用我们之前收集到的数据分析训练模型\n",
    "clf=clf.fit(features, labels)\n",
    "\n",
    "# 判断 160 克重、粗糙的水果是苹果还是橙子\n",
    "print(clf.predict([[160, 0]]))"
   ]
  }
 ],
 "metadata": {
  "kernelspec": {
   "display_name": "Python 3",
   "language": "python",
   "name": "python3"
  },
  "language_info": {
   "codemirror_mode": {
    "name": "ipython",
    "version": 3
   },
   "file_extension": ".py",
   "mimetype": "text/x-python",
   "name": "python",
   "nbconvert_exporter": "python",
   "pygments_lexer": "ipython3",
   "version": "3.9.6"
  },
  "orig_nbformat": 4
 },
 "nbformat": 4,
 "nbformat_minor": 2
}
