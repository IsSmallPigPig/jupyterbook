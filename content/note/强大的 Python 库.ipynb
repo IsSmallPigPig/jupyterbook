{
 "cells": [
  {
   "attachments": {},
   "cell_type": "markdown",
   "metadata": {},
   "source": [
    "randint 函数示例"
   ]
  },
  {
   "cell_type": "code",
   "execution_count": null,
   "metadata": {},
   "outputs": [],
   "source": [
    "# 导入随机库\n",
    "import random as r\n",
    "# 使用随机库的生成随机整数的函数，范围是 1 ~ 100\n",
    "target = r.randint(1, 100)\n",
    "\n",
    "# 如果生成的数等于 50\n",
    "if target == 50:\n",
    "    # 输出等于 50\n",
    "    print(\"等于 50\")\n",
    "# 如果不是 50\n",
    "else:\n",
    "    # 输出不是 50\n",
    "    print(\"不是 50\")"
   ]
  },
  {
   "attachments": {},
   "cell_type": "markdown",
   "metadata": {},
   "source": [
    "scikit-learn 训练模型示例"
   ]
  },
  {
   "cell_type": "code",
   "execution_count": 3,
   "metadata": {},
   "outputs": [
    {
     "ename": "TypeError",
     "evalue": "predict() takes 2 positional arguments but 3 were given",
     "output_type": "error",
     "traceback": [
      "\u001b[1;31m---------------------------------------------------------------------------\u001b[0m",
      "\u001b[1;31mTypeError\u001b[0m                                 Traceback (most recent call last)",
      "Cell \u001b[1;32mIn[3], line 13\u001b[0m\n\u001b[0;32m     10\u001b[0m clf\u001b[39m=\u001b[39mclf\u001b[39m.\u001b[39mfit(features, labels)\n\u001b[0;32m     12\u001b[0m \u001b[39m# 判断 160 克重、粗糙的水果是苹果还是橙子\u001b[39;00m\n\u001b[1;32m---> 13\u001b[0m \u001b[39mprint\u001b[39m(clf\u001b[39m.\u001b[39;49mpredict(\u001b[39m160\u001b[39;49m, \u001b[39m0\u001b[39;49m))\n",
      "\u001b[1;31mTypeError\u001b[0m: predict() takes 2 positional arguments but 3 were given"
     ]
    }
   ],
   "source": [
    "from sklearn import neighbors\n",
    "# 记录水果特征列表\n",
    "features = [[140, 1], [130, 1], [150, 0], [170, 0], [180, 0]]\n",
    "# 记录水果类别\n",
    "labels = [0, 0, 1, 1, 1]\n",
    "\n",
    "# KNN 模型芬妮系数据，K 值为 3\n",
    "clf=neighbors.KNeighborsClassifier(3)\n",
    "# 用我们之前收集到的数据分析训练模型\n",
    "clf=clf.fit(features, labels)\n",
    "\n",
    "# 判断 160 克重、粗糙的水果是苹果还是橙子\n",
    "print(clf.predict([[160, 0]]))"
   ]
  }
 ],
 "metadata": {
  "kernelspec": {
   "display_name": "Python 3",
   "language": "python",
   "name": "python3"
  },
  "language_info": {
   "codemirror_mode": {
    "name": "ipython",
    "version": 3
   },
   "file_extension": ".py",
   "mimetype": "text/x-python",
   "name": "python",
   "nbconvert_exporter": "python",
   "pygments_lexer": "ipython3",
   "version": "3.9.6"
  },
  "orig_nbformat": 4
 },
 "nbformat": 4,
 "nbformat_minor": 2
}
